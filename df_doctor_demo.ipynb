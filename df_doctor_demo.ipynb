{
 "cells": [
  {
   "cell_type": "code",
   "execution_count": 1,
   "id": "0d53e92e",
   "metadata": {},
   "outputs": [
    {
     "ename": "ModuleNotFoundError",
     "evalue": "No module named 'analyze_df_doctor'",
     "output_type": "error",
     "traceback": [
      "\u001b[1;31m---------------------------------------------------------------------------\u001b[0m",
      "\u001b[1;31mModuleNotFoundError\u001b[0m                       Traceback (most recent call last)",
      "Cell \u001b[1;32mIn[1], line 3\u001b[0m\n\u001b[0;32m      1\u001b[0m \u001b[38;5;28;01mimport\u001b[39;00m \u001b[38;5;21;01mpandas\u001b[39;00m \u001b[38;5;28;01mas\u001b[39;00m \u001b[38;5;21;01mpd\u001b[39;00m\n\u001b[0;32m      2\u001b[0m \u001b[38;5;28;01mimport\u001b[39;00m \u001b[38;5;21;01mnumpy\u001b[39;00m \u001b[38;5;28;01mas\u001b[39;00m \u001b[38;5;21;01mnp\u001b[39;00m\n\u001b[1;32m----> 3\u001b[0m \u001b[38;5;28;01mfrom\u001b[39;00m \u001b[38;5;21;01manalyze_df_doctor\u001b[39;00m \u001b[38;5;28;01mimport\u001b[39;00m analyze\n\u001b[0;32m      4\u001b[0m \u001b[38;5;28;01mfrom\u001b[39;00m \u001b[38;5;21;01mclean_df_doctor\u001b[39;00m \u001b[38;5;28;01mimport\u001b[39;00m clean\n\u001b[0;32m      6\u001b[0m \u001b[38;5;66;03m# Load example dataset\u001b[39;00m\n",
      "\u001b[1;31mModuleNotFoundError\u001b[0m: No module named 'analyze_df_doctor'"
     ]
    }
   ],
   "source": [
    "\n",
    "import pandas as pd\n",
    "import numpy as np\n",
    "from analyze_df_doctor import analyze\n",
    "from clean_df_doctor import clean\n",
    "\n",
    "# Load example dataset\n",
    "df = pd.read_csv(\"data/sample_dirty_data.csv\")\n",
    "df.head()\n"
   ]
  },
  {
   "cell_type": "code",
   "execution_count": null,
   "id": "a700521c",
   "metadata": {},
   "outputs": [],
   "source": [
    "\n",
    "report, analysis_log = analyze(df)\n",
    "\n",
    "print(\"🩺 Analysis Report:\")\n",
    "display(report)\n",
    "\n",
    "print(\"\\n📋 Analysis Log:\")\n",
    "for line in analysis_log:\n",
    "    print(\"-\", line)\n"
   ]
  },
  {
   "cell_type": "code",
   "execution_count": null,
   "id": "70e34e0d",
   "metadata": {},
   "outputs": [],
   "source": [
    "\n",
    "df_clean, clean_log = clean(df, report)\n",
    "\n",
    "print(\"\\n✅ Cleaning Log:\")\n",
    "for step in clean_log:\n",
    "    print(\"-\", step)\n",
    "\n",
    "df_clean.head()\n"
   ]
  },
  {
   "cell_type": "code",
   "execution_count": null,
   "id": "64584ac5",
   "metadata": {},
   "outputs": [],
   "source": [
    "\n",
    "# Save cleaned version\n",
    "df_clean.to_csv(\"cleaned_sample_data.csv\", index=False)\n",
    "print(\"Saved cleaned file as 'cleaned_sample_data.csv'\")\n"
   ]
  }
 ],
 "metadata": {
  "kernelspec": {
   "display_name": "Python 3 (ipykernel)",
   "language": "python",
   "name": "python3"
  },
  "language_info": {
   "codemirror_mode": {
    "name": "ipython",
    "version": 3
   },
   "file_extension": ".py",
   "mimetype": "text/x-python",
   "name": "python",
   "nbconvert_exporter": "python",
   "pygments_lexer": "ipython3",
   "version": "3.10.16"
  }
 },
 "nbformat": 4,
 "nbformat_minor": 5
}
